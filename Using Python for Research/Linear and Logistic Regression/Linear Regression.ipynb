{
 "cells": [
  {
   "cell_type": "markdown",
   "id": "a1f06747-2392-401f-8375-cc652e2a9cf6",
   "metadata": {},
   "source": [
    "Orange line is the function that we used to generate the data from and the blue dots are the realizations and the blue dots correspond to the realizations of the model and the dots are scatterred around the line because of the added gaussian noise."
   ]
  },
  {
   "cell_type": "code",
   "execution_count": 3,
   "id": "2612c645-a067-40a3-b5af-4b14be22fa65",
   "metadata": {},
   "outputs": [
    {
     "data": {
      "application/vnd.jupyter.widget-view+json": {
       "model_id": "a2802fdca5ff4fa994e35d9e76b168c0",
       "version_major": 2,
       "version_minor": 0
      },
      "text/plain": [
       "Canvas(toolbar=Toolbar(toolitems=[('Home', 'Reset original view', 'home', 'home'), ('Back', 'Back to previous …"
      ]
     },
     "metadata": {},
     "output_type": "display_data"
    },
    {
     "data": {
      "text/plain": [
       "81.540007425512"
      ]
     },
     "execution_count": 3,
     "metadata": {},
     "output_type": "execute_result"
    }
   ],
   "source": [
    "# GEnerating Exampke Regression Data\n",
    "import numpy as np, scipy.stats as ss, matplotlib.pyplot as plt\n",
    "%matplotlib widget\n",
    "\n",
    "n=100 \n",
    "beta_0 = 5\n",
    "beta_1 = 2\n",
    "np.random.seed(1)\n",
    "x = 10 * ss.uniform.rvs(size=n) # for uniform distribution of x between 0 anf 10\n",
    "y = beta_0 + beta_1 * x + ss.norm.rvs(loc=0 , scale=1 , size=n) #loc=0 meaning mean=0 and scale meaning standard deviation\n",
    "\n",
    "plt.figure()\n",
    "plt.plot(x , y ,\"o\", ms=5) # ms-marker size\n",
    "\n",
    "xx = np.array([0,10]) #x values for which we want to plot the regression function (y)\n",
    "plt.plot(xx, beta_0+beta_1 * xx)\n",
    "plt.xlabel(\"x\")\n",
    "plt.ylabel(\"y\")\n",
    "plt.show()\n",
    "\n",
    "def compute_rss(y_estimate, y):\n",
    "  return sum(np.power(y-y_estimate, 2))\n",
    "def estimate_y(x, b_0, b_1):\n",
    "  return b_0 + b_1 * x\n",
    "rss = compute_rss(estimate_y(x, beta_0, beta_1), y)\n",
    "rss"
   ]
  },
  {
   "cell_type": "code",
   "execution_count": 4,
   "id": "73bfc8f2-16de-4f14-86f4-1c26a68aa6c6",
   "metadata": {},
   "outputs": [
    {
     "name": "stdout",
     "output_type": "stream",
     "text": [
      "Estimate for the slope:  2.003999999993347\n"
     ]
    },
    {
     "data": {
      "application/vnd.jupyter.widget-view+json": {
       "model_id": "ebdfeb8d31004df19c7e18724b4c1c2f",
       "version_major": 2,
       "version_minor": 0
      },
      "text/plain": [
       "Canvas(toolbar=Toolbar(toolitems=[('Home', 'Reset original view', 'home', 'home'), ('Back', 'Back to previous …"
      ]
     },
     "metadata": {},
     "output_type": "display_data"
    },
    {
     "data": {
      "text/plain": [
       "Text(0, 0.5, 'RSS')"
      ]
     },
     "execution_count": 4,
     "metadata": {},
     "output_type": "execute_result"
    }
   ],
   "source": [
    "# Least Squares Estimation in Code\n",
    "# Estimation of beta 1 value (slope), we know the true value of beta_0 in this case\n",
    "\n",
    "rss = [] #All rss values for different values of slope\n",
    "slopes=np.arange(-10, 15, 0.001)\n",
    "\n",
    "for slope in slopes:\n",
    "    rss.append(np.sum((y-beta_0-slope*x)**2))#square of deviation from the value predicted by the model\n",
    "    \n",
    "ind_min = np.argmin(rss)\n",
    "\n",
    "print(\"Estimate for the slope: \", slopes[ind_min])\n",
    "\n",
    "plt.figure()\n",
    "plt.plot(slopes,rss)\n",
    "plt.xlabel(\"Slope\")\n",
    "plt.ylabel(\"RSS\")"
   ]
  },
  {
   "cell_type": "code",
   "execution_count": 5,
   "id": "3d5c3e16-3a12-4f5e-b437-cdec246450b7",
   "metadata": {},
   "outputs": [
    {
     "name": "stdout",
     "output_type": "stream",
     "text": [
      "                                 OLS Regression Results                                \n",
      "=======================================================================================\n",
      "Dep. Variable:                      y   R-squared (uncentered):                   0.968\n",
      "Model:                            OLS   Adj. R-squared (uncentered):              0.967\n",
      "Method:                 Least Squares   F-statistic:                              2974.\n",
      "Date:                Sun, 18 Jul 2021   Prob (F-statistic):                    1.14e-75\n",
      "Time:                        20:21:30   Log-Likelihood:                         -246.89\n",
      "No. Observations:                 100   AIC:                                      495.8\n",
      "Df Residuals:                      99   BIC:                                      498.4\n",
      "Df Model:                           1                                                  \n",
      "Covariance Type:            nonrobust                                                  \n",
      "==============================================================================\n",
      "                 coef    std err          t      P>|t|      [0.025      0.975]\n",
      "------------------------------------------------------------------------------\n",
      "x1             2.7569      0.051     54.538      0.000       2.657       2.857\n",
      "==============================================================================\n",
      "Omnibus:                        7.901   Durbin-Watson:                   1.579\n",
      "Prob(Omnibus):                  0.019   Jarque-Bera (JB):                3.386\n",
      "Skew:                           0.139   Prob(JB):                        0.184\n",
      "Kurtosis:                       2.143   Cond. No.                         1.00\n",
      "==============================================================================\n",
      "\n",
      "Notes:\n",
      "[1] R² is computed without centering (uncentered) since the model does not contain a constant.\n",
      "[2] Standard Errors assume that the covariance matrix of the errors is correctly specified.\n",
      "                            OLS Regression Results                            \n",
      "==============================================================================\n",
      "Dep. Variable:                      y   R-squared:                       0.977\n",
      "Model:                            OLS   Adj. R-squared:                  0.977\n",
      "Method:                 Least Squares   F-statistic:                     4115.\n",
      "Date:                Sun, 18 Jul 2021   Prob (F-statistic):           7.47e-82\n",
      "Time:                        20:21:30   Log-Likelihood:                -130.72\n",
      "No. Observations:                 100   AIC:                             265.4\n",
      "Df Residuals:                      98   BIC:                             270.7\n",
      "Df Model:                           1                                         \n",
      "Covariance Type:            nonrobust                                         \n",
      "==============================================================================\n",
      "                 coef    std err          t      P>|t|      [0.025      0.975]\n",
      "------------------------------------------------------------------------------\n",
      "const          5.2370      0.174     30.041      0.000       4.891       5.583\n",
      "x1             1.9685      0.031     64.151      0.000       1.908       2.029\n",
      "==============================================================================\n",
      "Omnibus:                        2.308   Durbin-Watson:                   2.206\n",
      "Prob(Omnibus):                  0.315   Jarque-Bera (JB):                1.753\n",
      "Skew:                          -0.189   Prob(JB):                        0.416\n",
      "Kurtosis:                       3.528   Cond. No.                         11.2\n",
      "==============================================================================\n",
      "\n",
      "Notes:\n",
      "[1] Standard Errors assume that the covariance matrix of the errors is correctly specified.\n"
     ]
    }
   ],
   "source": [
    "# Simple Linear Regression in Code\n",
    "\n",
    "import statsmodels.api as sm\n",
    "mod = sm.OLS(y , x)\n",
    "\n",
    "est = mod.fit()\n",
    "print(est.summary())\n",
    "\n",
    "X = sm.add_constant(x)\n",
    "mod = sm.OLS(y, X)\n",
    "est = mod.fit()\n",
    "print(est.summary())"
   ]
  },
  {
   "cell_type": "code",
   "execution_count": 37,
   "id": "64fa35db-be44-43b5-9f76-31561dca87bd",
   "metadata": {},
   "outputs": [
    {
     "data": {
      "application/vnd.jupyter.widget-view+json": {
       "model_id": "d2805bfd6b6a470fa90cc58967d30040",
       "version_major": 2,
       "version_minor": 0
      },
      "text/plain": [
       "Canvas(toolbar=Toolbar(toolitems=[('Home', 'Reset original view', 'home', 'home'), ('Back', 'Back to previous …"
      ]
     },
     "metadata": {},
     "output_type": "display_data"
    },
    {
     "data": {
      "text/plain": [
       "0.9798997316600129"
      ]
     },
     "execution_count": 37,
     "metadata": {},
     "output_type": "execute_result"
    }
   ],
   "source": [
    "# Using Scikit learn\\\n",
    "from sklearn.linear_model import LinearRegression\n",
    "%matplotlib widget\n",
    "\n",
    "\n",
    "n = 500\n",
    "beta_0 = 5\n",
    "beta_1 = 2\n",
    "beta_2 = -1\n",
    "np.random.seed(1)\n",
    "x_1 = 10 * ss.uniform.rvs(size=n)\n",
    "x_2 = 10 * ss.uniform.rvs(size=n)\n",
    "y = beta_0 + beta_1 * x_1 + beta_2 * x_2 + ss.norm.rvs(loc=0, scale=1 , size =n)\n",
    "\n",
    "X = np.stack([x_1 , x_2] , axis=1)\n",
    "\n",
    "from mpl_toolkits.mplot3d import Axes3D\n",
    "fig = plt.figure()\n",
    "ax = fig.add_subplot(111, projection='3d')\n",
    "ax.scatter(X[:,0],X[:,1], y, c=y)\n",
    "ax.set_xlabel(\"$x_1$\")\n",
    "ax.set_ylabel(\"$x_2$\")\n",
    "ax.set_zlabel(\"$y$\")\n",
    "\n",
    "lm = LinearRegression(fit_intercept=True) # lm (linear model)\n",
    "lm.fit(X, y)\n",
    "\n",
    "lm.intercept_\n",
    "lm.coef_[0] # beta1\n",
    "lm.coef_[1] #beta2\n",
    "\n",
    "X_0 = np.array([2,4])\n",
    "lm.predict(X_0.reshape(1,-1))\n",
    "\n",
    "lm.score(X,y) # R squared value "
   ]
  },
  {
   "cell_type": "code",
   "execution_count": 39,
   "id": "4d84a717-a555-49f0-93bf-440a828170f1",
   "metadata": {},
   "outputs": [
    {
     "data": {
      "text/plain": [
       "0.9794930834681773"
      ]
     },
     "execution_count": 39,
     "metadata": {},
     "output_type": "execute_result"
    }
   ],
   "source": [
    "# Assessing Model Accuracy\n",
    "# commonly done by MSE ( Mean squared error) \n",
    "from sklearn.model_selection import train_test_split\n",
    "X_train, X_test, y_train, y_test = train_test_split(X, y, train_size=0.5, random_state=1) #train_size is proportion of data used\n",
    "\n",
    "lm = LinearRegression(fit_intercept=True)\n",
    "lm.fit(X_train,y_train)\n",
    "\n",
    "lm.score(X_test, y_test)"
   ]
  },
  {
   "cell_type": "code",
   "execution_count": null,
   "id": "bc0cc6d1-feaa-4f50-a565-685c2f497690",
   "metadata": {},
   "outputs": [],
   "source": []
  }
 ],
 "metadata": {
  "kernelspec": {
   "display_name": "Python 3 (ipykernel)",
   "language": "python",
   "name": "python3"
  },
  "language_info": {
   "codemirror_mode": {
    "name": "ipython",
    "version": 3
   },
   "file_extension": ".py",
   "mimetype": "text/x-python",
   "name": "python",
   "nbconvert_exporter": "python",
   "pygments_lexer": "ipython3",
   "version": "3.9.6"
  }
 },
 "nbformat": 4,
 "nbformat_minor": 5
}
