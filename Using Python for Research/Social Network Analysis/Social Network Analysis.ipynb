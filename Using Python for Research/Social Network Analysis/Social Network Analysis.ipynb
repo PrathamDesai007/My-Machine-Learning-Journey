{
 "cells": [
  {
   "cell_type": "code",
   "execution_count": 2,
   "id": "a843b593-e510-4b30-ae13-b726320c5139",
   "metadata": {},
   "outputs": [
    {
     "data": {
      "text/plain": [
       "7"
      ]
     },
     "execution_count": 2,
     "metadata": {},
     "output_type": "execute_result"
    }
   ],
   "source": [
    "#Basics of Networkx\n",
    "\n",
    "import networkx as nx\n",
    "\n",
    "G = nx.Graph()\n",
    "G.add_node(1)\n",
    "G.add_nodes_from([\"u\",\"v\"])\n",
    "\n",
    "G.add_edge(1,2)\n",
    "G.add_edge(\"u\",\"v\")\n",
    "G.add_edges_from([(1,3),(1,4),(1,5),(1,6)])\n",
    "G.add_edge(\"u\",\"w\")\n",
    "\n",
    "G.remove_nodes_from([4,5])\n",
    "G.remove_edge(1,3)\n",
    "\n",
    "G.number_of_nodes()"
   ]
  },
  {
   "cell_type": "code",
   "execution_count": 3,
   "id": "27f05472-a2c4-4446-bd1e-76d871b9f74c",
   "metadata": {},
   "outputs": [
    {
     "data": {
      "application/vnd.jupyter.widget-view+json": {
       "model_id": "78f1a9a8d1c74416b37abeab38db533e",
       "version_major": 2,
       "version_minor": 0
      },
      "text/plain": [
       "Canvas(toolbar=Toolbar(toolitems=[('Home', 'Reset original view', 'home', 'home'), ('Back', 'Back to previous …"
      ]
     },
     "metadata": {},
     "output_type": "display_data"
    },
    {
     "name": "stdout",
     "output_type": "stream",
     "text": [
      "[(0, 16), (1, 9), (2, 10), (3, 6), (4, 3), (5, 4), (6, 4), (7, 4), (8, 5), (9, 2), (10, 3), (11, 1), (12, 2), (13, 5), (14, 2), (15, 2), (16, 2), (17, 2), (18, 2), (19, 3), (20, 2), (21, 2), (22, 2), (23, 5), (24, 3), (25, 3), (26, 2), (27, 4), (28, 3), (29, 4), (30, 4), (31, 6), (32, 12), (33, 17)]\n"
     ]
    },
    {
     "data": {
      "text/plain": [
       "10"
      ]
     },
     "execution_count": 3,
     "metadata": {},
     "output_type": "execute_result"
    }
   ],
   "source": [
    "#Graph Visualization\n",
    "import matplotlib.pyplot as plt\n",
    "%matplotlib widget\n",
    "G= nx.karate_club_graph()\n",
    "nx.draw(G, with_labels=True, node_color=\"lightblue\", edge_color=\"grey\")\n",
    "plt.show()\n",
    "print(G.degree()) # Dictionary of Ties or friendships of that particular node\n",
    "G.degree(2) # or G.degree[2]"
   ]
  },
  {
   "cell_type": "code",
   "execution_count": 4,
   "id": "9a37c183-1184-441f-afac-edbffc437ab4",
   "metadata": {},
   "outputs": [
    {
     "data": {
      "application/vnd.jupyter.widget-view+json": {
       "model_id": "3f10ac44fce14a4a8ebe4f48aae14dba",
       "version_major": 2,
       "version_minor": 0
      },
      "text/plain": [
       "Canvas(toolbar=Toolbar(toolitems=[('Home', 'Reset original view', 'home', 'home'), ('Back', 'Back to previous …"
      ]
     },
     "metadata": {},
     "output_type": "display_data"
    }
   ],
   "source": [
    "# Random Graphs\n",
    "from scipy.stats import bernoulli\n",
    "%matplotlib widget\n",
    "bernoulli.rvs(p=0.2)\n",
    "\n",
    "def er_graph(N,p):  \n",
    "    '''Generate an ER graph'''\n",
    "    #Specify number of nodes\n",
    "    #Probability of an edge between a pair of nodes\n",
    "    #Loop over all pairs and add en edge with probability p\n",
    "    G = nx.Graph()\n",
    "    G.add_nodes_from(range(N))\n",
    "    for node1 in G.nodes():\n",
    "        for node2 in G.nodes():\n",
    "            if node1 < node2 and bernoulli.rvs(p=p): # f it returns 1 i.e True, condition to consider a pair only once\n",
    "                G.add_edge(node1,node2) \n",
    "    return G\n",
    "nx.draw(er_graph(50,0.1), node_size=20)\n",
    "\n",
    "#we can also use nx.erdos_renyi_graph()\n"
   ]
  },
  {
   "cell_type": "code",
   "execution_count": 5,
   "id": "ad550c54-1cd4-4ecd-a731-29d4fa57eb17",
   "metadata": {},
   "outputs": [
    {
     "data": {
      "application/vnd.jupyter.widget-view+json": {
       "model_id": "6f30abcc8f414eb9b33dcf6559dff21e",
       "version_major": 2,
       "version_minor": 0
      },
      "text/plain": [
       "Canvas(toolbar=Toolbar(toolitems=[('Home', 'Reset original view', 'home', 'home'), ('Back', 'Back to previous …"
      ]
     },
     "metadata": {},
     "output_type": "display_data"
    }
   ],
   "source": [
    "#Plotting the Degree distribution\n",
    "%matplotlib widget\n",
    "def plot_degree_distribution(G):\n",
    "    degree_sequence=[d for n,d in G.degree()]\n",
    "    plt.hist(degree_sequence, histtype= \"step\")\n",
    "    plt.xlabel(\"Degree $k$\")\n",
    "    plt.ylabel(\"$P(k)$\")\n",
    "    plt.title(\"Degree distribution\")\n",
    "G1 = er_graph(500,0.08)\n",
    "plot_degree_distribution(G1)\n",
    "G2 = er_graph(500,0.08)\n",
    "plot_degree_distribution(G2)\n",
    "G3 = er_graph(500,0.08)\n",
    "plot_degree_distribution(G3)\n",
    "\n",
    "#getting a more clear idea"
   ]
  },
  {
   "cell_type": "code",
   "execution_count": 6,
   "id": "7ac11e21-98a3-432c-a153-dcb037bf1b7e",
   "metadata": {},
   "outputs": [
    {
     "name": "stdout",
     "output_type": "stream",
     "text": [
      "Number of nodes: 843\n",
      "Number of edges: 3405\n",
      "Average degree: 8.08\n",
      "Number of nodes: 877\n",
      "Number of edges: 3063\n",
      "Average degree: 6.99\n"
     ]
    },
    {
     "data": {
      "application/vnd.jupyter.widget-view+json": {
       "model_id": "3df8b675a86e4e4b84c8c8fea47c27c0",
       "version_major": 2,
       "version_minor": 0
      },
      "text/plain": [
       "Canvas(toolbar=Toolbar(toolitems=[('Home', 'Reset original view', 'home', 'home'), ('Back', 'Back to previous …"
      ]
     },
     "metadata": {},
     "output_type": "display_data"
    },
    {
     "name": "stdout",
     "output_type": "stream",
     "text": [
      "[[0. 1. 1. ... 0. 0. 0.]\n",
      " [1. 0. 1. ... 0. 0. 0.]\n",
      " [1. 1. 0. ... 0. 0. 0.]\n",
      " ...\n",
      " [0. 0. 0. ... 0. 1. 1.]\n",
      " [0. 0. 0. ... 1. 0. 1.]\n",
      " [0. 0. 0. ... 1. 1. 0.]]\n"
     ]
    }
   ],
   "source": [
    "# Descriptive Statistics of Empirical Social Networks\n",
    "import numpy as np\n",
    "%matplotlib widget\n",
    "A1 = np.loadtxt(\"adj_allVillageRelationships_vilno_1.csv\" , delimiter= \",\")\n",
    "A2 = np.loadtxt(\"adj_allVillageRelationships_vilno_2.csv\" , delimiter= \",\")\n",
    "\n",
    "G1 = nx.to_networkx_graph(A1)\n",
    "G2 = nx.to_networkx_graph(A2)\n",
    "\n",
    "def basic_net_stats(G):\n",
    "    degree_sequence = [d for n,d in G.degree()]\n",
    "    print(\"Number of nodes: %d\" %G.number_of_nodes())\n",
    "    print(\"Number of edges: %d\" %G.number_of_edges())\n",
    "    print(\"Average degree: %.2f\" % np.mean(degree_sequence))\n",
    "basic_net_stats(G1)\n",
    "basic_net_stats(G2)\n",
    "\n",
    "plot_degree_distribution(G1)\n",
    "plot_degree_distribution(G2)\n",
    "# Inference: More people having fewer connections , Reference: ER graph"
   ]
  },
  {
   "cell_type": "code",
   "execution_count": 8,
   "id": "b0241ae3-1865-4668-930f-39102cb997e1",
   "metadata": {},
   "outputs": [
    {
     "data": {
      "application/vnd.jupyter.widget-view+json": {
       "model_id": "592aa8bdb2f64e5e9edb6b49e0707d9d",
       "version_major": 2,
       "version_minor": 0
      },
      "text/plain": [
       "Canvas(toolbar=Toolbar(toolitems=[('Home', 'Reset original view', 'home', 'home'), ('Back', 'Back to previous …"
      ]
     },
     "metadata": {},
     "output_type": "display_data"
    },
    {
     "data": {
      "application/vnd.jupyter.widget-view+json": {
       "model_id": "0edb5fe7e37d4ed48b4fac1dd9558c4c",
       "version_major": 2,
       "version_minor": 0
      },
      "text/plain": [
       "Canvas(toolbar=Toolbar(toolitems=[('Home', 'Reset original view', 'home', 'home'), ('Back', 'Back to previous …"
      ]
     },
     "metadata": {},
     "output_type": "display_data"
    }
   ],
   "source": [
    "# Finding the Largest Connected Component\n",
    "%matplotlib widget\n",
    "\n",
    "Gcc1= sorted(nx.connected_components(G1), key=len, reverse=True)\n",
    "Gcc2= sorted(nx.connected_components(G2), key=len, reverse=True)\n",
    "G1max = G1.subgraph(Gcc1[0])\n",
    "G2max = G2.subgraph(Gcc2[0])\n",
    "\n",
    "#percentage of nodes in largest component\n",
    "\n",
    "p = (len(G1max)/G1.number_of_nodes())*100\n",
    "\n",
    "plt.figure()\n",
    "nx.draw(G1max, node_color=\"red\" , edge_color=\"gray\", node_size=20)\n",
    "plt.figure()\n",
    "nx.draw(G2max, node_color=\"blue\" , edge_color=\"gray\", node_size=20)"
   ]
  },
  {
   "cell_type": "code",
   "execution_count": null,
   "id": "8df6cdc5-c26a-4fc3-8ea3-58af388dba9a",
   "metadata": {},
   "outputs": [],
   "source": []
  }
 ],
 "metadata": {
  "kernelspec": {
   "display_name": "Python 3 (ipykernel)",
   "language": "python",
   "name": "python3"
  },
  "language_info": {
   "codemirror_mode": {
    "name": "ipython",
    "version": 3
   },
   "file_extension": ".py",
   "mimetype": "text/x-python",
   "name": "python",
   "nbconvert_exporter": "python",
   "pygments_lexer": "ipython3",
   "version": "3.9.6"
  }
 },
 "nbformat": 4,
 "nbformat_minor": 5
}
