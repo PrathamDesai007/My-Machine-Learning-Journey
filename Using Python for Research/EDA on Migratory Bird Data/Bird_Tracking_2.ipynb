{
 "cells": [
  {
   "cell_type": "code",
   "execution_count": 11,
   "id": "e67c398d-6f5e-4b0b-b826-69e43217012a",
   "metadata": {},
   "outputs": [],
   "source": [
    "import pandas as pd,numpy as np, matplotlib.pyplot as plt, datetime\n",
    "import cartopy.crs as ccrs, cartopy.feature as cfeature\n",
    "\n",
    "birddata=pd.read_csv(r\"C:\\Users\\pkdes\\Documents\\Machine Learning\\Using Python for Research\\EDA on Migratory Bird Data\\bird_tracking.csv\")"
   ]
  },
  {
   "cell_type": "code",
   "execution_count": 17,
   "id": "4a334045-e2a7-4299-a619-43ed2bab7620",
   "metadata": {},
   "outputs": [
    {
     "data": {
      "application/vnd.jupyter.widget-view+json": {
       "model_id": "becd8247c5e94d9187003cb52228f6f0",
       "version_major": 2,
       "version_minor": 0
      },
      "text/plain": [
       "Canvas(toolbar=Toolbar(toolitems=[('Home', 'Reset original view', 'home', 'home'), ('Back', 'Back to previous …"
      ]
     },
     "metadata": {},
     "output_type": "display_data"
    }
   ],
   "source": [
    "#Approx flight path \n",
    "%matplotlib widget\n",
    "plt.figure(figsize=(6,4))\n",
    "bird_names=pd.unique(birddata.bird_name)\n",
    "for bird in bird_names:\n",
    "    ix= birddata.bird_name== bird\n",
    "    x,y = birddata.longitude[ix], birddata.latitude[ix]\n",
    "    plt.plot(x,y,\".\", label= bird)\n",
    "plt.xlabel(\"Longitude\")\n",
    "plt.ylabel(\"Latitude\")  \n",
    "plt.legend(loc=\"upper left\")\n",
    "plt.title(\"Approx flight path\")\n",
    "time_stamps=[]\n",
    "for k in range(len(birddata)):\n",
    "    time_stamps.append(datetime.datetime.strptime(birddata.date_time.iloc[k][0 :-3],\"%Y-%m-%d %H:%M:%S\"))\n",
    "birddata[\"timestamp\"]=pd.Series(time_stamps, index=birddata.index)"
   ]
  },
  {
   "cell_type": "code",
   "execution_count": 20,
   "id": "fe1e2595-b876-4e23-9939-43d3cff5cb55",
   "metadata": {},
   "outputs": [
    {
     "data": {
      "application/vnd.jupyter.widget-view+json": {
       "model_id": "483bb483f2f342b585129f8095b08c57",
       "version_major": 2,
       "version_minor": 0
      },
      "text/plain": [
       "Canvas(toolbar=Toolbar(toolitems=[('Home', 'Reset original view', 'home', 'home'), ('Back', 'Back to previous …"
      ]
     },
     "metadata": {},
     "output_type": "display_data"
    },
    {
     "data": {
      "text/plain": [
       "Text(0.5, 1.0, 'Elapsed time')"
      ]
     },
     "execution_count": 20,
     "metadata": {},
     "output_type": "execute_result"
    }
   ],
   "source": [
    "#elapsed_time\n",
    "%matplotlib widget\n",
    "data=birddata[birddata.bird_name==\"Eric\"]\n",
    "times=data.timestamp\n",
    "elapsed_time= [time - times[0] for time in times]\n",
    "elapsed_days= np.array(elapsed_time)/datetime.timedelta(days=1) \n",
    "plt.figure(figsize=(7,5))\n",
    "plt.plot(np.array(elapsed_time)/datetime.timedelta(days=1), label=\"Eric\")\n",
    "plt.xlabel(\" Observation \")\n",
    "plt.ylabel(\" Elapsed time (days)\")\n",
    "plt.legend(loc=\"upper left\")\n",
    "plt.title(\"Elapsed time\")"
   ]
  },
  {
   "cell_type": "code",
   "execution_count": 23,
   "id": "3c05801b-6bbb-4541-9c6e-fb2ebefcc3a0",
   "metadata": {},
   "outputs": [
    {
     "data": {
      "application/vnd.jupyter.widget-view+json": {
       "model_id": "bf095a5fb6e941b88ce4c033e65a0a0a",
       "version_major": 2,
       "version_minor": 0
      },
      "text/plain": [
       "Canvas(toolbar=Toolbar(toolitems=[('Home', 'Reset original view', 'home', 'home'), ('Back', 'Back to previous …"
      ]
     },
     "metadata": {},
     "output_type": "display_data"
    },
    {
     "data": {
      "text/plain": [
       "Text(0.5, 1.0, 'Daily Mean Speed')"
      ]
     },
     "execution_count": 23,
     "metadata": {},
     "output_type": "execute_result"
    }
   ],
   "source": [
    "#Daily Mean speed plot\n",
    "%matplotlib widget\n",
    "next_day=1\n",
    "inds=[]\n",
    "daily_mean_speed=[]\n",
    "for (i,t) in enumerate(elapsed_days):\n",
    "    if t<next_day:\n",
    "        inds.append(i)\n",
    "    else:\n",
    "        daily_mean_speed.append(np.mean(data.speed_2d[inds]))\n",
    "        next_day +=1\n",
    "        inds=[]\n",
    "        inds.append(i)\n",
    "plt.figure(figsize=(8,4))\n",
    "plt.plot(daily_mean_speed,label=\"Eric\")\n",
    "plt.xlabel(\"Day\")\n",
    "plt.ylabel(\"Mean speed (m/s\")\n",
    "plt.legend(loc=\"upper left\")\n",
    "plt.title(\"Daily Mean Speed\")"
   ]
  },
  {
   "cell_type": "code",
   "execution_count": 24,
   "id": "cac2a1fb-189b-4934-96d6-2bd242eafbe8",
   "metadata": {},
   "outputs": [
    {
     "data": {
      "application/vnd.jupyter.widget-view+json": {
       "model_id": "2c12c396ef9e4d668a4c27b641a5e647",
       "version_major": 2,
       "version_minor": 0
      },
      "text/plain": [
       "Canvas(toolbar=Toolbar(toolitems=[('Home', 'Reset original view', 'home', 'home'), ('Back', 'Back to previous …"
      ]
     },
     "metadata": {},
     "output_type": "display_data"
    },
    {
     "data": {
      "text/plain": [
       "Text(0.5, 1.0, '2D speed vs frequency')"
      ]
     },
     "execution_count": 24,
     "metadata": {},
     "output_type": "execute_result"
    }
   ],
   "source": [
    "# 2D speed vs frequency\n",
    "%matplotlib widget\n",
    "plt.figure(figsize=(8,4))\n",
    "speed=birddata.speed_2d[birddata.bird_name==\"Eric\"]\n",
    "ind= np.isnan(speed)\n",
    "plt.hist(speed[~ind], bins=np.linspace(0,30,20),density=True,label=\"Eric\")\n",
    "plt.xlabel(\"2D speed (m/s\")\n",
    "plt.ylabel(\"Frequency\") \n",
    "plt.legend(loc=\"upper right\")\n",
    "plt.title(\"2D speed vs frequency\")\n",
    "\n",
    "# Alternative Using pandas\n",
    "# birddata.speed_2d.plot(kind='hist', range=[0,30])\n",
    "# plt.xlabel(\"2D speed\")\n",
    "# plt.legend(loc=\"upper right\")"
   ]
  },
  {
   "cell_type": "code",
   "execution_count": 35,
   "id": "513adb63-510c-4413-b7ec-785b61c2ac54",
   "metadata": {},
   "outputs": [
    {
     "data": {
      "application/vnd.jupyter.widget-view+json": {
       "model_id": "30718a83661c402d9bddf33314aeabc4",
       "version_major": 2,
       "version_minor": 0
      },
      "text/plain": [
       "Canvas(toolbar=Toolbar(toolitems=[('Home', 'Reset original view', 'home', 'home'), ('Back', 'Back to previous …"
      ]
     },
     "metadata": {},
     "output_type": "display_data"
    },
    {
     "data": {
      "text/plain": [
       "Text(0.5, 1.0, 'Real flight path')"
      ]
     },
     "execution_count": 35,
     "metadata": {},
     "output_type": "execute_result"
    }
   ],
   "source": [
    "# Plotting using Cartopy Library\n",
    "%matplotlib widget\n",
    "proj= ccrs.Mercator()\n",
    "plt.figure(figsize=(6,6))\n",
    "ax=plt.axes(projection=proj)\n",
    "ax.set_extent((-40.0,20.0,55.0,15.0))\n",
    "ax.add_feature(cfeature.LAND)\n",
    "ax.add_feature(cfeature.OCEAN)\n",
    "ax.add_feature(cfeature.COASTLINE)\n",
    "ax.add_feature(cfeature.BORDERS, linestyle= ':')\n",
    "for bird in bird_names:\n",
    "    ix= birddata.bird_name== bird\n",
    "    x,y = birddata.longitude[ix], birddata.latitude[ix]\n",
    "    ax.plot(x,y,\".\", transform=ccrs.Geodetic(),label=bird)\n",
    "plt.legend(loc=\"upper left\")\n",
    "plt.title(\"Real flight path\")"
   ]
  },
  {
   "cell_type": "code",
   "execution_count": null,
   "id": "e7e9d142-a643-448c-b550-ba81631af8ef",
   "metadata": {},
   "outputs": [],
   "source": []
  }
 ],
 "metadata": {
  "kernelspec": {
   "display_name": "Python 3 (ipykernel)",
   "language": "python",
   "name": "python3"
  },
  "language_info": {
   "codemirror_mode": {
    "name": "ipython",
    "version": 3
   },
   "file_extension": ".py",
   "mimetype": "text/x-python",
   "name": "python",
   "nbconvert_exporter": "python",
   "pygments_lexer": "ipython3",
   "version": "3.9.6"
  }
 },
 "nbformat": 4,
 "nbformat_minor": 5
}
