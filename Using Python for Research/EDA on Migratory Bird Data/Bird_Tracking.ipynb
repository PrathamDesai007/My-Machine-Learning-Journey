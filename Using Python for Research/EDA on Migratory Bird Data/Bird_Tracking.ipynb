{
 "cells": [
  {
   "cell_type": "markdown",
   "source": [
    "# Using Python for Research Homework: Week 4, Case Study 2\n",
    "\n",
    "In this case study, we will continue taking a look at patterns of flight for each of the three birds in our dataset."
   ],
   "metadata": {}
  },
  {
   "cell_type": "code",
   "execution_count": 1,
   "source": [
    "# DO NOT EDIT THIS CODE\r\n",
    "import pandas as pd\r\n",
    "import numpy as np\r\n",
    "import datetime\r\n",
    "birddata = pd.read_csv(\"https://courses.edx.org/asset-v1:HarvardX+PH526x+2T2019+type@asset+block@bird_tracking.csv\", index_col=0)"
   ],
   "outputs": [],
   "metadata": {}
  },
  {
   "cell_type": "markdown",
   "source": [
    "### Exercise 1\n",
    "\n",
    "In this case study, we will continue taking a look at patterns of flight for each of the three birds in our dataset. We will group the flight patterns by bird and date, and plot the mean altitude for these groupings.\n",
    "\n",
    "`pandas` makes it easy to perform basic operations on groups within a dataframe without needing to loop through each value in the dataframe. In this exercise, we will group the dataframe by `birdname` and then find the average `speed_2d` for each bird.\n",
    "\n",
    "#### Instructions \n",
    "- Fill in the code to find the mean altitudes of each bird using the pre-loaded `birddata` dataframe. "
   ],
   "metadata": {}
  },
  {
   "cell_type": "code",
   "execution_count": 6,
   "source": [
    "# First, use `groupby()` to group the data by \"bird_name\".\r\n",
    "grouped_birds =birddata.groupby(\"bird_name\")\r\n",
    "\r\n",
    "# Now calculate the mean of `speed_2d` using the `mean()` function.\r\n",
    "mean_speeds = grouped_birds.speed_2d.mean()  \r\n",
    "\r\n",
    "# Find the mean `altitude` for each bird.\r\n",
    "mean_altitudes = grouped_birds.altitude.mean()"
   ],
   "outputs": [],
   "metadata": {
    "tags": []
   }
  },
  {
   "cell_type": "markdown",
   "source": [
    "### Exercise 2\n",
    "\n",
    "In this exercise, we will group the flight times by date and calculate the mean altitude within that day.\n",
    "\n",
    "#### Instructions \n",
    "- Convert `birddata.date_time` to the `pd.datetime` format, and store as `birddata[\"date\"]`.\n",
    "- Fill in the code to find the mean altitudes for each day."
   ],
   "metadata": {}
  },
  {
   "cell_type": "code",
   "execution_count": 10,
   "source": [
    "# Convert birddata.date_time to the `pd.datetime` format.\r\n",
    "birddata.date_time = pd.to_datetime(birddata.date_time) \r\n",
    "\r\n",
    "# Create a new column of day of observation\r\n",
    "birddata[\"date\"] = birddata.date_time.dt.date\r\n",
    "\r\n",
    "# Use `groupby()` to group the data by date.\r\n",
    "grouped_bydates = birddata.groupby(\"date\")\r\n",
    "\r\n",
    "# Find the mean `altitude` for each date.\r\n",
    "mean_altitudes_perday = grouped_bydates.altitude.mean()\r\n"
   ],
   "outputs": [],
   "metadata": {}
  },
  {
   "cell_type": "markdown",
   "source": [
    "### Exercise 3\n",
    "\n",
    "In this exercise, we will group the flight times by both bird and date, and calculate the mean altitude for each.\n",
    "\n",
    "#### Instructions \n",
    "- `birddata` already contains the `date` column. To find the average speed for each bird and day, create a new grouped dataframe called `grouped_birdday` that groups the data by both `bird_name` and date."
   ],
   "metadata": {}
  },
  {
   "cell_type": "code",
   "execution_count": 13,
   "source": [
    "# Use `groupby()` to group the data by bird and date.\r\n",
    "grouped_birdday = birddata.groupby([\"bird_name\", \"date\"])\r\n",
    "\r\n",
    "# Find the mean `altitude` for each bird and date.\r\n",
    "mean_altitudes_perday = grouped_birdday.altitude.mean()"
   ],
   "outputs": [],
   "metadata": {}
  },
  {
   "cell_type": "markdown",
   "source": [
    "### Exercise 4\n",
    "\n",
    "Great! Now find the average speed for each bird and day.\n",
    "\n",
    "#### Instructions \n",
    "\n",
    "- Store these are three `pandas` `Series` objects, one for each bird.\n",
    "- Use the plotting code provided to plot the average speeds for each bird."
   ],
   "metadata": {}
  },
  {
   "cell_type": "code",
   "execution_count": 15,
   "source": [
    "import matplotlib.pyplot as plt\r\n",
    "%matplotlib widget\r\n",
    "eric_daily_speed  = grouped_birdday.speed_2d.mean()[\"Eric\"]\r\n",
    "sanne_daily_speed = grouped_birdday.speed_2d.mean()[\"Sanne\"]\r\n",
    "nico_daily_speed  = grouped_birdday.speed_2d.mean()[\"Nico\"]\r\n",
    "\r\n",
    "eric_daily_speed.plot(label=\"Eric\")\r\n",
    "sanne_daily_speed.plot(label=\"Sanne\")\r\n",
    "nico_daily_speed.plot(label=\"Nico\")\r\n",
    "plt.legend(loc=\"upper left\")"
   ],
   "outputs": [
    {
     "output_type": "display_data",
     "data": {
      "application/vnd.jupyter.widget-view+json": {
       "version_major": 2,
       "version_minor": 0,
       "model_id": "eb61fe27a1f74c7c9bed28a64ef2be1b"
      },
      "text/plain": [
       "Canvas(toolbar=Toolbar(toolitems=[('Home', 'Reset original view', 'home', 'home'), ('Back', 'Back to previous …"
      ]
     },
     "metadata": {}
    },
    {
     "output_type": "execute_result",
     "data": {
      "text/plain": [
       "<matplotlib.legend.Legend at 0x1868e2d2df0>"
      ]
     },
     "metadata": {},
     "execution_count": 15
    }
   ],
   "metadata": {}
  },
  {
   "cell_type": "code",
   "execution_count": null,
   "source": [],
   "outputs": [],
   "metadata": {}
  }
 ],
 "metadata": {
  "kernelspec": {
   "name": "python3",
   "display_name": "Python 3.9.6 64-bit"
  },
  "language_info": {
   "codemirror_mode": {
    "name": "ipython",
    "version": 3
   },
   "file_extension": ".py",
   "mimetype": "text/x-python",
   "name": "python",
   "nbconvert_exporter": "python",
   "pygments_lexer": "ipython3",
   "version": "3.9.6"
  },
  "interpreter": {
   "hash": "14cd1d66e87954bacb2c9022d5b7b829a79a0baec3a4edff47cc6294dd6e19d8"
  }
 },
 "nbformat": 4,
 "nbformat_minor": 4
}