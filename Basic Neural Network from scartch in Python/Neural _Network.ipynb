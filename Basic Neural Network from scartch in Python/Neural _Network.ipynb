{
 "cells": [
  {
   "cell_type": "code",
   "execution_count": 1,
   "source": [
    "import numpy as np, matplotlib.pyplot as plt\r\n",
    "from scipy import optimize"
   ],
   "outputs": [],
   "metadata": {}
  },
  {
   "cell_type": "code",
   "execution_count": 5,
   "source": [
    "class NeuralNetwork(object):\r\n",
    "    def __init__(self, Lambda):\r\n",
    "        self.inputLayerSize = 2\r\n",
    "        self.outputLayerSize = 1\r\n",
    "        self.hiddenLayerSize = 5\r\n",
    "        \r\n",
    "        self.w1 = np.random.randn(self.inputLayerSize, self.hiddenLayerSize)\r\n",
    "        self.w2 = np.random.randn(self.hiddenLayerSize, self.outputLayerSize)\r\n",
    "        self.Lambda = Lambda\r\n",
    "    def forward(self, X):\r\n",
    "        self.z2 = np.dot(X, self.w1)\r\n",
    "        self.a2 = self.sigmoid(self.z2)\r\n",
    "        self.z3 = np.dot(self.a2,self.w2)\r\n",
    "        yHat = self.sigmoid(self.z3)\r\n",
    "        return yHat\r\n",
    "    \r\n",
    "    def sigmoid(self,z):\r\n",
    "        return 1/(1+np.exp(-z))\r\n",
    "    \r\n",
    "    def sigmoidPrime(self,z):\r\n",
    "        return np.exp(-z)/((1+np.exp(-z))**2)\r\n",
    "    \r\n",
    "    def costFunction(self, X, y):\r\n",
    "        #Compute cost for given X,y, use weights already stored in class.\r\n",
    "        self.yHat = self.forward(X)\r\n",
    "        J = 0.5*sum((y-self.yHat)**2)/X.shape[0] + (self.Lambda/2)*(np.sum(self.w1**2)+np.sum(self.w2**2))\r\n",
    "                                                                    \r\n",
    "        return J\r\n",
    "    \r\n",
    "    def costFunctionPrime(self,X,y):\r\n",
    "        \r\n",
    "        self.yHat = self.forward(X)\r\n",
    "        \r\n",
    "        delta3 = np.multiply(-(y-self.yHat), self.sigmoidPrime(self.z3))\r\n",
    "        dJdW2 = np.dot(self.a2.T, delta3)/X.shape[0] + self.Lambda*self.w2\r\n",
    "        \r\n",
    "        delta2 = np.dot(delta3, self.w2.T) * self.sigmoidPrime(self.z2)\r\n",
    "        dJdW1 = np.dot(X.T, delta2)/X.shape[0] + self.Lambda*self.w1\r\n",
    "        \r\n",
    "        return dJdW1, dJdW2\r\n",
    "    \r\n",
    "    def getParams(self):\r\n",
    "        #Get W1 and W2 unrolled into vector:\r\n",
    "        params = np.concatenate((self.w1.ravel(), self.w2.ravel()))\r\n",
    "        return params\r\n",
    "    \r\n",
    "    def setParams(self, params):\r\n",
    "        #Set W1 and W2 using single paramater vector.\r\n",
    "        W1_start = 0\r\n",
    "        W1_end = self.hiddenLayerSize * self.inputLayerSize\r\n",
    "        self.w1 = np.reshape(params[W1_start:W1_end], (self.inputLayerSize , self.hiddenLayerSize))\r\n",
    "        W2_end = W1_end + self.hiddenLayerSize*self.outputLayerSize\r\n",
    "        self.w2 = np.reshape(params[W1_end:W2_end], (self.hiddenLayerSize, self.outputLayerSize))\r\n",
    "        \r\n",
    "    def computeGradients(self, X, y):\r\n",
    "        dJdW1, dJdW2 = self.costFunctionPrime(X, y)\r\n",
    "        return np.concatenate((dJdW1.ravel(), dJdW2.ravel()))\r\n",
    "    "
   ],
   "outputs": [],
   "metadata": {}
  },
  {
   "cell_type": "code",
   "execution_count": 3,
   "source": [
    "def computeNumericalGradient(N, X, y):\r\n",
    "        paramsInitial = N.getParams()\r\n",
    "        numgrad = np.zeros(paramsInitial.shape)\r\n",
    "        perturb = np.zeros(paramsInitial.shape)\r\n",
    "        e = 1e-4\r\n",
    "\r\n",
    "        for p in range(len(paramsInitial)):\r\n",
    "            #Set perturbation vector\r\n",
    "            perturb[p] = e\r\n",
    "            N.setParams(paramsInitial + perturb)\r\n",
    "            loss2 = N.costFunction(X, y)\r\n",
    "            \r\n",
    "            N.setParams(paramsInitial - perturb)\r\n",
    "            loss1 = N.costFunction(X, y)\r\n",
    "\r\n",
    "            #Compute Numerical Gradient\r\n",
    "            numgrad[p] = (loss2 - loss1) / (2*e)\r\n",
    "\r\n",
    "            #Return the value we changed to zero:\r\n",
    "            perturb[p] = 0\r\n",
    "            \r\n",
    "        #Return Params to original value:\r\n",
    "        N.setParams(paramsInitial)\r\n",
    "\r\n",
    "        return numgrad \r\n",
    "    \r\n",
    "class trainer(object):\r\n",
    "    def __init__(self, N):\r\n",
    "        #Make Local reference to network:\r\n",
    "        self.N = N\r\n",
    "        \r\n",
    "    def callbackF(self, params):\r\n",
    "        self.N.setParams(params)\r\n",
    "        self.J.append(self.N.costFunction(self.X, self.y))   \r\n",
    "        self.testJ.append(self.N.costFunction(self.testX,self.testY))\r\n",
    "        \r\n",
    "    def costFunctionWrapper(self, params, X, y):\r\n",
    "        self.N.setParams(params)\r\n",
    "        cost = self.N.costFunction(X, y)\r\n",
    "        grad = self.N.computeGradients(X,y)\r\n",
    "        return cost, grad\r\n",
    "        \r\n",
    "    def train(self, trainX, trainY, testX, testY):\r\n",
    "        #Make an internal variable for the callback function:\r\n",
    "        self.X = trainX\r\n",
    "        self.y = trainY\r\n",
    "        self.testX = testX\r\n",
    "        self.testY = testY\r\n",
    "        #Make empty list to store costs:\r\n",
    "        self.J = []\r\n",
    "        self.testJ = []\r\n",
    "        params0 = self.N.getParams()\r\n",
    "\r\n",
    "        options = {'maxiter': 200, 'disp' : True}\r\n",
    "        _res = optimize.minimize(self.costFunctionWrapper, params0, jac=True, method='BFGS', \\\r\n",
    "                                 args=(trainX, trainY), options=options, callback=self.callbackF)\r\n",
    "\r\n",
    "        self.N.setParams(_res.x)\r\n",
    "        self.optimizationResults = _res"
   ],
   "outputs": [],
   "metadata": {}
  },
  {
   "cell_type": "code",
   "execution_count": 6,
   "source": [
    "trainX = np.array(([3,5], [5,1], [10,2], [6,1.5]), dtype=float)\r\n",
    "trainY = np.array(([75], [82], [93], [70]), dtype=float)\r\n",
    "\r\n",
    "#Testing Data:\r\n",
    "testX = np.array(([4, 5.5], [4.5,1], [9,2.5], [6, 2]), dtype=float)\r\n",
    "testY = np.array(([70], [89], [85], [75]), dtype=float)\r\n",
    "\r\n",
    "#Normalize:\r\n",
    "trainX = trainX/np.amax(trainX, axis=0)\r\n",
    "trainY = trainY/100 #Max test score is 100\r\n",
    "\r\n",
    "#Normalize by max of training data:\r\n",
    "testX = testX/np.amax(trainX, axis=0)\r\n",
    "testY = testY/100 #Max test score is 100\r\n",
    "\r\n",
    "NN = NeuralNetwork(Lambda=0)\r\n",
    "T = trainer(NN)\r\n",
    "T.train(trainX, trainY, testX, testY)\r\n",
    "plt.plot(T.J)\r\n",
    "plt.plot(T.testJ)\r\n",
    "plt.xlabel('Iterations')\r\n",
    "plt.ylabel('Costs')\r\n",
    "plt.legend(['Training', 'Testing'])"
   ],
   "outputs": [
    {
     "output_type": "stream",
     "name": "stdout",
     "text": [
      "Optimization terminated successfully.\n",
      "         Current function value: 0.000000\n",
      "         Iterations: 113\n",
      "         Function evaluations: 126\n",
      "         Gradient evaluations: 126\n"
     ]
    },
    {
     "output_type": "execute_result",
     "data": {
      "text/plain": [
       "<matplotlib.legend.Legend at 0x252c2fabc70>"
      ]
     },
     "metadata": {},
     "execution_count": 6
    },
    {
     "output_type": "display_data",
     "data": {
      "image/png": "[encoded data removed]",
      "text/plain": [
       "<Figure size 432x288 with 1 Axes>"
      ]
     },
     "metadata": {
      "needs_background": "light"
     }
    }
   ],
   "metadata": {}
  },
  {
   "cell_type": "code",
   "execution_count": null,
   "source": [],
   "outputs": [],
   "metadata": {}
  },
  {
   "cell_type": "code",
   "execution_count": null,
   "source": [],
   "outputs": [],
   "metadata": {}
  }
 ],
 "metadata": {
  "kernelspec": {
   "name": "python3",
   "display_name": "Python 3.9.6 64-bit"
  },
  "language_info": {
   "codemirror_mode": {
    "name": "ipython",
    "version": 3
   },
   "file_extension": ".py",
   "mimetype": "text/x-python",
   "name": "python",
   "nbconvert_exporter": "python",
   "pygments_lexer": "ipython3",
   "version": "3.9.6"
  },
  "interpreter": {
   "hash": "14cd1d66e87954bacb2c9022d5b7b829a79a0baec3a4edff47cc6294dd6e19d8"
  }
 },
 "nbformat": 4,
 "nbformat_minor": 5
}